{
 "cells": [
  {
   "cell_type": "code",
   "execution_count": 1,
   "id": "a7d3b0c5",
   "metadata": {},
   "outputs": [],
   "source": [
    "from numpy import array\n",
    "from sklearn.preprocessing import LabelEncoder\n",
    "from sklearn.preprocessing import OneHotEncoder\n",
    "from sklearn.preprocessing import LabelBinarizer"
   ]
  },
  {
   "cell_type": "code",
   "execution_count": 2,
   "id": "44f3caf2",
   "metadata": {},
   "outputs": [
    {
     "name": "stdout",
     "output_type": "stream",
     "text": [
      "data: ['cold' 'hot' 'cold' 'hot' 'cold' 'hot' 'cold' 'warm' 'cold' 'warm' 'warm']\n",
      "Label Encoder: [0 1 0 1 0 1 0 2 0 2 2]\n",
      "Onehot Encoder: [[1. 0. 0.]\n",
      " [0. 1. 0.]\n",
      " [1. 0. 0.]\n",
      " [0. 1. 0.]\n",
      " [1. 0. 0.]\n",
      " [0. 1. 0.]\n",
      " [1. 0. 0.]\n",
      " [0. 0. 1.]\n",
      " [1. 0. 0.]\n",
      " [0. 0. 1.]\n",
      " [0. 0. 1.]]\n",
      "Label Binarizer [[1 0 0]\n",
      " [0 1 0]\n",
      " [1 0 0]\n",
      " [0 1 0]\n",
      " [1 0 0]\n",
      " [0 1 0]\n",
      " [1 0 0]\n",
      " [0 0 1]\n",
      " [1 0 0]\n",
      " [0 0 1]\n",
      " [0 0 1]]\n"
     ]
    }
   ],
   "source": [
    "#define example\n",
    "data=['cold','hot','cold','hot','cold','hot','cold','warm','cold','warm','warm']\n",
    "values=array(data)\n",
    "print('data:',values)\n",
    "\n",
    "#integer encode\n",
    "label_encoder=LabelEncoder()\n",
    "integer_encoded=label_encoder.fit_transform(values)\n",
    "print('Label Encoder:',integer_encoded)\n",
    "\n",
    "#onehot encode\n",
    "onehot_encoder=OneHotEncoder(sparse=False)\n",
    "integer_encoded=integer_encoded.reshape(len(integer_encoded),1)\n",
    "onehot_encoded=onehot_encoder.fit_transform(integer_encoded)\n",
    "print('Onehot Encoder:',onehot_encoded)\n",
    "\n",
    "#binary encoded\n",
    "lb=LabelBinarizer()\n",
    "print('Label Binarizer',lb.fit_transform(values))"
   ]
  },
  {
   "cell_type": "code",
   "execution_count": 3,
   "id": "ce97088a",
   "metadata": {},
   "outputs": [
    {
     "data": {
      "text/plain": [
       "array([[1., 0., 0.],\n",
       "       [0., 1., 0.],\n",
       "       [1., 0., 0.],\n",
       "       [0., 1., 0.],\n",
       "       [1., 0., 0.],\n",
       "       [0., 1., 0.],\n",
       "       [1., 0., 0.],\n",
       "       [0., 0., 1.],\n",
       "       [1., 0., 0.],\n",
       "       [0., 0., 1.],\n",
       "       [0., 0., 1.]])"
      ]
     },
     "execution_count": 3,
     "metadata": {},
     "output_type": "execute_result"
    }
   ],
   "source": [
    "values=values.reshape(len(values),1)\n",
    "onehot_encoder.fit_transform(values)"
   ]
  },
  {
   "cell_type": "code",
   "execution_count": null,
   "id": "8f83d2fd",
   "metadata": {},
   "outputs": [],
   "source": []
  }
 ],
 "metadata": {
  "kernelspec": {
   "display_name": "Python 3 (ipykernel)",
   "language": "python",
   "name": "python3"
  },
  "language_info": {
   "codemirror_mode": {
    "name": "ipython",
    "version": 3
   },
   "file_extension": ".py",
   "mimetype": "text/x-python",
   "name": "python",
   "nbconvert_exporter": "python",
   "pygments_lexer": "ipython3",
   "version": "3.9.12"
  }
 },
 "nbformat": 4,
 "nbformat_minor": 5
}
